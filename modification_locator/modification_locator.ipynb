{
 "cells": [
  {
   "cell_type": "markdown",
   "metadata": {},
   "source": [
    "Deving modification locator script.\n",
    "\n",
    "evidence.txt is huge."
   ]
  },
  {
   "cell_type": "code",
   "execution_count": 1,
   "metadata": {},
   "outputs": [
    {
     "name": "stdout",
     "output_type": "stream",
     "text": [
      "4700965 evidence.txt\n"
     ]
    }
   ],
   "source": [
    "wc -l evidence.txt"
   ]
  },
  {
   "cell_type": "markdown",
   "metadata": {},
   "source": [
    "Only using 2 columns. The modified sequence and the leading razor protein."
   ]
  },
  {
   "cell_type": "code",
   "execution_count": 2,
   "metadata": {},
   "outputs": [
    {
     "name": "stdout",
     "output_type": "stream",
     "text": [
      "Modified sequence Leading razor protein\n",
      "_AAAAAAAAAAAAAAAGAGAGAK_ tr|Q53ZR1|Q53ZR1_HUMAN\n",
      "_AAAAAAAAAAAAAAAGAGAGAK_ tr|Q53ZR1|Q53ZR1_HUMAN\n",
      "_AAAAAAAAAAAAAAAGAGAGAK_ tr|Q53ZR1|Q53ZR1_HUMAN\n",
      "_AAAAAAAAAAAAAAAGAGAGAK_ tr|Q53ZR1|Q53ZR1_HUMAN\n",
      "_AAAAAAAAAAAATGTEAGPGTAGGSENGSEVAAQPAGLSGPAEVGPGAVGER_ sp|O60341|KDM1A_HUMAN\n",
      "_AAAAAAAAAAAATGTEAGPGTAGGSENGSEVAAQPAGLSGPAEVGPGAVGER_ sp|O60341|KDM1A_HUMAN\n",
      "_AAAAAAAAAAAATGTEAGPGTAGGSENGSEVAAQPAGLSGPAEVGPGAVGER_ sp|O60341|KDM1A_HUMAN\n",
      "_AAAAAAAAAAAATGTEAGPGTAGGSENGSEVAAQPAGLSGPAEVGPGAVGER_ sp|O60341|KDM1A_HUMAN\n",
      "_AAAAAAAAAAAATGTEAGPGTAGGSENGSEVAAQPAGLSGPAEVGPGAVGER_ sp|O60341|KDM1A_HUMAN\n"
     ]
    }
   ],
   "source": [
    "awk -F\"\\t\" '{print $4,$15}' evidence.txt | head"
   ]
  },
  {
   "cell_type": "markdown",
   "metadata": {},
   "source": [
    "Assuming the queried amino acid is Q"
   ]
  },
  {
   "cell_type": "code",
   "execution_count": 3,
   "metadata": {},
   "outputs": [
    {
     "name": "stdout",
     "output_type": "stream",
     "text": [
      "_AAAAAAAAAAAATGTEAGPGTAGGSENGSEVAAQPAGLSGPAEVGPGAVGER_ sp|O60341|KDM1A_HUMAN\n",
      "_AAAAAAAAAAAATGTEAGPGTAGGSENGSEVAAQPAGLSGPAEVGPGAVGER_ sp|O60341|KDM1A_HUMAN\n",
      "_AAAAAAAAAAAATGTEAGPGTAGGSENGSEVAAQPAGLSGPAEVGPGAVGER_ sp|O60341|KDM1A_HUMAN\n",
      "_AAAAAAAAAAAATGTEAGPGTAGGSENGSEVAAQPAGLSGPAEVGPGAVGER_ sp|O60341|KDM1A_HUMAN\n",
      "_AAAAAAAAAAAATGTEAGPGTAGGSENGSEVAAQPAGLSGPAEVGPGAVGER_ sp|O60341|KDM1A_HUMAN\n"
     ]
    }
   ],
   "source": [
    "awk -F\"\\t\" '($4 ~ /Q/){print $4,$15}' evidence_head.txt "
   ]
  },
  {
   "cell_type": "markdown",
   "metadata": {},
   "source": [
    "Let's find a bunch with some modifications and a Q and R in it. (uniq doesn't like being cut off so 2>/dev/null it)"
   ]
  },
  {
   "cell_type": "code",
   "execution_count": 16,
   "metadata": {},
   "outputs": [
    {
     "name": "stdout",
     "output_type": "stream",
     "text": [
      "_(ac)AAAAVQGGRS(ph)GGSGGCSGAGGASNCGTGSGR_ tr|E9PL01|E9PL01_HUMAN\n",
      "_(ac)AAAETQSLREQPEM(ox)EDANS(ph)EK_ tr|A0A024QZY5|A0A024QZY5_HUMAN\n",
      "_(ac)AAAETQSLREQPEMEDANS(ph)EK_ tr|A0A024QZY5|A0A024QZY5_HUMAN\n",
      "_(ac)AAAETQS(ph)LREQPEMEDANS(ph)EK_ tr|A0A024QZY5|A0A024QZY5_HUMAN\n",
      "_(ac)AAAET(ph)QSLREQPEMEDANS(ph)EK_ tr|A0A024QZY5|A0A024QZY5_HUMAN\n",
      "_(ac)AAAETQS(ph)LREQPEMEDANS(ph)EK_ tr|A0A024QZY5|A0A024QZY5_HUMAN\n",
      "_(ac)AAAPQAPGRGS(ph)LR_ sp|P78345|RPP38_HUMAN\n",
      "_(ac)AAAPQAPGRGS(ph)LRK_ sp|P78345|RPP38_HUMAN\n",
      "_(ac)AAARPEAQSRS(ph)SPTPESR_ sp|Q8NCA9|ZN784_HUMAN\n",
      "_(ac)AAARPEAQSRSS(ph)PTPESR_ sp|Q8NCA9|ZN784_HUMAN\n"
     ]
    }
   ],
   "source": [
    "awk -F\"\\t\" '($4 ~ /\\).*Q.*R.*\\)/){print $4,$15}' evidence.txt | uniq 2>/dev/null | head "
   ]
  },
  {
   "cell_type": "markdown",
   "metadata": {},
   "source": [
    "In this list, T and M are modified once so let's use them as our amino acids."
   ]
  },
  {
   "cell_type": "code",
   "execution_count": null,
   "metadata": {},
   "outputs": [],
   "source": []
  }
 ],
 "metadata": {
  "kernelspec": {
   "display_name": "Bash",
   "language": "bash",
   "name": "bash"
  },
  "language_info": {
   "codemirror_mode": "shell",
   "file_extension": ".sh",
   "mimetype": "text/x-sh",
   "name": "bash"
  }
 },
 "nbformat": 4,
 "nbformat_minor": 2
}
