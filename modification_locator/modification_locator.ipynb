{
 "cells": [
  {
   "cell_type": "markdown",
   "metadata": {},
   "source": [
    "Deving modification locator script.\n",
    "\n",
    "evidence.txt is huge."
   ]
  },
  {
   "cell_type": "code",
   "execution_count": 1,
   "metadata": {},
   "outputs": [
    {
     "name": "stdout",
     "output_type": "stream",
     "text": [
      "4700965 evidence.txt\n"
     ]
    }
   ],
   "source": [
    "wc -l evidence.txt"
   ]
  },
  {
   "cell_type": "markdown",
   "metadata": {},
   "source": [
    "Only using 2 columns. The modified sequence and the leading razor protein."
   ]
  },
  {
   "cell_type": "code",
   "execution_count": 2,
   "metadata": {},
   "outputs": [
    {
     "name": "stdout",
     "output_type": "stream",
     "text": [
      "Modified sequence Leading razor protein\n",
      "_AAAAAAAAAAAAAAAGAGAGAK_ tr|Q53ZR1|Q53ZR1_HUMAN\n",
      "_AAAAAAAAAAAAAAAGAGAGAK_ tr|Q53ZR1|Q53ZR1_HUMAN\n",
      "_AAAAAAAAAAAAAAAGAGAGAK_ tr|Q53ZR1|Q53ZR1_HUMAN\n",
      "_AAAAAAAAAAAAAAAGAGAGAK_ tr|Q53ZR1|Q53ZR1_HUMAN\n",
      "_AAAAAAAAAAAATGTEAGPGTAGGSENGSEVAAQPAGLSGPAEVGPGAVGER_ sp|O60341|KDM1A_HUMAN\n",
      "_AAAAAAAAAAAATGTEAGPGTAGGSENGSEVAAQPAGLSGPAEVGPGAVGER_ sp|O60341|KDM1A_HUMAN\n",
      "_AAAAAAAAAAAATGTEAGPGTAGGSENGSEVAAQPAGLSGPAEVGPGAVGER_ sp|O60341|KDM1A_HUMAN\n",
      "_AAAAAAAAAAAATGTEAGPGTAGGSENGSEVAAQPAGLSGPAEVGPGAVGER_ sp|O60341|KDM1A_HUMAN\n",
      "_AAAAAAAAAAAATGTEAGPGTAGGSENGSEVAAQPAGLSGPAEVGPGAVGER_ sp|O60341|KDM1A_HUMAN\n"
     ]
    }
   ],
   "source": [
    "awk -F\"\\t\" '{print $4,$15}' evidence.txt | head"
   ]
  },
  {
   "cell_type": "markdown",
   "metadata": {},
   "source": [
    "Assuming the queried amino acid is Q"
   ]
  },
  {
   "cell_type": "code",
   "execution_count": 3,
   "metadata": {},
   "outputs": [
    {
     "name": "stdout",
     "output_type": "stream",
     "text": [
      "_AAAAAAAAAAAATGTEAGPGTAGGSENGSEVAAQPAGLSGPAEVGPGAVGER_ sp|O60341|KDM1A_HUMAN\n",
      "_AAAAAAAAAAAATGTEAGPGTAGGSENGSEVAAQPAGLSGPAEVGPGAVGER_ sp|O60341|KDM1A_HUMAN\n",
      "_AAAAAAAAAAAATGTEAGPGTAGGSENGSEVAAQPAGLSGPAEVGPGAVGER_ sp|O60341|KDM1A_HUMAN\n",
      "_AAAAAAAAAAAATGTEAGPGTAGGSENGSEVAAQPAGLSGPAEVGPGAVGER_ sp|O60341|KDM1A_HUMAN\n",
      "_AAAAAAAAAAAATGTEAGPGTAGGSENGSEVAAQPAGLSGPAEVGPGAVGER_ sp|O60341|KDM1A_HUMAN\n"
     ]
    }
   ],
   "source": [
    "awk -F\"\\t\" '($4 ~ /Q/){print $4,$15}' evidence_head.txt "
   ]
  },
  {
   "cell_type": "markdown",
   "metadata": {},
   "source": [
    "Let's find a bunch with some modifications and a Q and R in it. (uniq doesn't like being cut off so 2>/dev/null it)"
   ]
  },
  {
   "cell_type": "code",
   "execution_count": 4,
   "metadata": {},
   "outputs": [
    {
     "name": "stdout",
     "output_type": "stream",
     "text": [
      "_(ac)AAAAVQGGRS(ph)GGSGGCSGAGGASNCGTGSGR_ tr|E9PL01|E9PL01_HUMAN\n",
      "_(ac)AAAETQSLREQPEM(ox)EDANS(ph)EK_ tr|A0A024QZY5|A0A024QZY5_HUMAN\n",
      "_(ac)AAAETQSLREQPEMEDANS(ph)EK_ tr|A0A024QZY5|A0A024QZY5_HUMAN\n",
      "_(ac)AAAETQS(ph)LREQPEMEDANS(ph)EK_ tr|A0A024QZY5|A0A024QZY5_HUMAN\n",
      "_(ac)AAAET(ph)QSLREQPEMEDANS(ph)EK_ tr|A0A024QZY5|A0A024QZY5_HUMAN\n",
      "_(ac)AAAETQS(ph)LREQPEMEDANS(ph)EK_ tr|A0A024QZY5|A0A024QZY5_HUMAN\n",
      "_(ac)AAAPQAPGRGS(ph)LR_ sp|P78345|RPP38_HUMAN\n",
      "_(ac)AAAPQAPGRGS(ph)LRK_ sp|P78345|RPP38_HUMAN\n",
      "_(ac)AAARPEAQSRS(ph)SPTPESR_ sp|Q8NCA9|ZN784_HUMAN\n",
      "_(ac)AAARPEAQSRSS(ph)PTPESR_ sp|Q8NCA9|ZN784_HUMAN\n"
     ]
    }
   ],
   "source": [
    "awk -F\"\\t\" '($4 ~ /\\).*Q.*R.*\\)/){print $4,$15}' evidence.txt | uniq 2>/dev/null | head "
   ]
  },
  {
   "cell_type": "markdown",
   "metadata": {},
   "source": [
    "In this list, T and M are modified once so let's use them as our amino acids.\n",
    "\n",
    "We're looking to find the position of these sequences in a protein. We could use something as simple as substr, but there is a program PeptideMatchCMD_1.0.jar that does this already, so... Let's create an index from our fasta file."
   ]
  },
  {
   "cell_type": "code",
   "execution_count": 6,
   "metadata": {},
   "outputs": [
    {
     "name": "stdout",
     "output_type": "stream",
     "text": [
      "Command line options: -a index -d uniprot-organism+homo+sapiens.fasta -i uniprot-organism+homo+sapiens \n",
      "Indexing to directory \"/Users/jakewendt/github/unreno/syryu/modification_locator/uniprot-organism+homo+sapiens\" ...\n",
      "Indexing \"uniprot-organism+homo+sapiens.fasta\" ...\n",
      "Indexing \"uniprot-organism+homo+sapiens.fasta\" finished\n",
      "Time used: 00 hours, 00 mins, 25.542 seconds\n"
     ]
    }
   ],
   "source": [
    "java -jar PeptideMatchCMD_1.0.jar -a index -d uniprot-organism+homo+sapiens.fasta -i uniprot-organism+homo+sapiens"
   ]
  },
  {
   "cell_type": "code",
   "execution_count": 7,
   "metadata": {},
   "outputs": [
    {
     "name": "stdout",
     "output_type": "stream",
     "text": [
      "Command line options: -a query -i uniprot-organism+homo+sapiens -q AAAAVQGGRSGGSGGCSGAGGASNCGTGSGR -o out \n",
      "Quering...\n",
      "\n",
      "AAAAVQGGRSGGSGGCSGAGGASNCGTGSGR\thas 5 matches\n",
      "\n",
      "Query is finished.\n",
      "The result is saved in \"out\".\n",
      "Time used: 00 hours, 00 mins, 00.186 seconds\n"
     ]
    }
   ],
   "source": [
    "java -jar PeptideMatchCMD_1.0.jar -a query -i uniprot-organism+homo+sapiens -q \"AAAAVQGGRSGGSGGCSGAGGASNCGTGSGR\" -o out"
   ]
  },
  {
   "cell_type": "code",
   "execution_count": 8,
   "metadata": {},
   "outputs": [
    {
     "name": "stdout",
     "output_type": "stream",
     "text": [
      "#Command line options: -a query -i uniprot-organism+homo+sapiens -q AAAAVQGGRSGGSGGCSGAGGASNCGTGSGR -o out \n",
      "##Query\tSubject\tSubjectLength\tMatchStart\tMatchEnd\n",
      "AAAAVQGGRSGGSGGCSGAGGASNCGTGSGR\ttr|E9PL01|E9PL01_HUMAN\t157\t2\t32\t\n",
      "AAAAVQGGRSGGSGGCSGAGGASNCGTGSGR\tsp|Q15005|SPCS2_HUMAN\t226\t2\t32\t\n",
      "AAAAVQGGRSGGSGGCSGAGGASNCGTGSGR\ttr|B4DDB9|B4DDB9_HUMAN\t226\t2\t32\t\n",
      "AAAAVQGGRSGGSGGCSGAGGASNCGTGSGR\ttr|A0A087WUC6|A0A087WUC6_HUMAN\t227\t2\t32\t\n",
      "AAAAVQGGRSGGSGGCSGAGGASNCGTGSGR\ttr|E9PI68|E9PI68_HUMAN\t257\t2\t32\t\n"
     ]
    }
   ],
   "source": [
    "cat out"
   ]
  },
  {
   "cell_type": "markdown",
   "metadata": {},
   "source": [
    "Five matches, one of which is the expected subject. Also, this program doesn't like the underscores or the modifications so I'll need to remove all of them and then need to find the positions of the modifications myself."
   ]
  },
  {
   "cell_type": "code",
   "execution_count": null,
   "metadata": {},
   "outputs": [],
   "source": []
  }
 ],
 "metadata": {
  "kernelspec": {
   "display_name": "Bash",
   "language": "bash",
   "name": "bash"
  },
  "language_info": {
   "codemirror_mode": "shell",
   "file_extension": ".sh",
   "mimetype": "text/x-sh",
   "name": "bash"
  }
 },
 "nbformat": 4,
 "nbformat_minor": 2
}
